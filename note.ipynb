{
 "cells": [
  {
   "cell_type": "code",
   "execution_count": 1,
   "metadata": {},
   "outputs": [],
   "source": [
    "import torch\n",
    "import numpy as np\n",
    "import torch.nn.functional as F\n",
    "import matplotlib.pyplot as plt\n",
    "from torch_geometric.datasets import Planetoid, WikipediaNetwork, WebKB\n",
    "from torch_geometric.transforms import NormalizeFeatures\n",
    "from torch_geometric.nn import GCNConv"
   ]
  },
  {
   "cell_type": "code",
   "execution_count": 2,
   "metadata": {},
   "outputs": [
    {
     "data": {
      "text/plain": [
       "<module 'utility.utils' from '/home/reef557/pr/py_code/classification_gnn/utility/utils.py'>"
      ]
     },
     "execution_count": 2,
     "metadata": {},
     "output_type": "execute_result"
    }
   ],
   "source": [
    "from utility import utils\n",
    "from importlib import reload\n",
    "reload(utils)"
   ]
  },
  {
   "cell_type": "markdown",
   "metadata": {},
   "source": [
    "# Model, train/val/test functions"
   ]
  },
  {
   "cell_type": "markdown",
   "metadata": {},
   "source": [
    "Two convolutional layers, convolution described here: [Kipf et al. (2017)](https://arxiv.org/abs/1609.02907)"
   ]
  },
  {
   "cell_type": "code",
   "execution_count": null,
   "metadata": {},
   "outputs": [],
   "source": [
    "class GCN(torch.nn.Module):\n",
    "    def __init__(self, input_size, hidden_size, output_size):\n",
    "        super().__init__()\n",
    "        torch.manual_seed(1234567)\n",
    "        self.conv1 = GCNConv(input_size, hidden_size)\n",
    "        # self.conv1 = LaplacianMessagePassing(num_features=input_size, dY=6, sub_nodes=10)\n",
    "        self.conv2 = GCNConv(hidden_size, output_size)\n",
    "\n",
    "    def forward(self, x, edge_index):\n",
    "        x = self.conv1(x, edge_index)\n",
    "        x = x.relu()\n",
    "        x = F.dropout(x, p=0.5, training=self.training)\n",
    "        x = self.conv2(x, edge_index)\n",
    "        return x\n"
   ]
  },
  {
   "cell_type": "code",
   "execution_count": 28,
   "metadata": {},
   "outputs": [],
   "source": [
    "def train(model, optimizer, criterion, data, split_num=0):\n",
    "    model.train()\n",
    "    optimizer.zero_grad()\n",
    "\n",
    "    # if dataset mask has multiple splits defined, use split 'split_num'\n",
    "    mask = data.train_mask if data.train_mask.shape == data.y.shape else data.train_mask[: , split_num]\n",
    "\n",
    "    out = model(data.x, data.edge_index) # get logits\n",
    "\n",
    "    loss = criterion(out[mask], data.y[mask]) # compute loss\n",
    "\n",
    "    loss.backward()\n",
    "    optimizer.step()\n",
    "    \n",
    "    return loss\n",
    "\n",
    "def get_val_loss(model, optimizer, criterion, data, split_num=0):\n",
    "    model.eval()\n",
    "\n",
    "    mask = data.val_mask if data.val_mask.shape == data.y.shape else data.val_mask[: , split_num]\n",
    "\n",
    "    with torch.no_grad():\n",
    "        out = model(data.x, data.edge_index)\n",
    "\n",
    "        loss = criterion(out[mask], data.y[mask])\n",
    "\n",
    "    return loss\n",
    "\n",
    "def test(model, data, split_num=0):\n",
    "    model.eval()\n",
    "\n",
    "    mask = data.test_mask if data.test_mask.shape == data.y.shape else data.test_mask[: , split_num]\n",
    "\n",
    "    with torch.no_grad():\n",
    "        out = model(data.x, data.edge_index)\n",
    "        pred = out.argmax(dim=1)  # pick class with highest probability\n",
    "        test_correct = pred[mask] == data.y[mask]\n",
    "        test_acc = int(test_correct.sum()) / int(mask.sum())  # compute accuracy\n",
    "    return test_acc"
   ]
  },
  {
   "cell_type": "markdown",
   "metadata": {},
   "source": [
    "# Read/download data"
   ]
  },
  {
   "cell_type": "code",
   "execution_count": 74,
   "metadata": {},
   "outputs": [],
   "source": [
    "# dataset = Planetoid(root='data/Planetoid', name='Cora') # uncomment needed dataset\n",
    "# dataset = Planetoid(root='data/Planetoid', name='Pubmed')\n",
    "# dataset = Planetoid(root='data/Planetoid', name='Citeseer')\n",
    "# dataset = WikipediaNetwork(root='data/WikipediaNetwork', name='Squirrel')\n",
    "dataset = WebKB(root='data/WebKB', name='Wisconsin')\n",
    "data = dataset[0]"
   ]
  },
  {
   "cell_type": "markdown",
   "metadata": {},
   "source": [
    "# The default features"
   ]
  },
  {
   "cell_type": "code",
   "execution_count": 61,
   "metadata": {},
   "outputs": [
    {
     "name": "stdout",
     "output_type": "stream",
     "text": [
      "GCN(\n",
      "  (conv1): GCNConv(1703, 16)\n",
      "  (conv2): GCNConv(16, 5)\n",
      ")\n",
      "Epoch: 001, Loss: 1.7306\n",
      "Epoch: 002, Loss: 1.3255\n",
      "Epoch: 003, Loss: 1.2146\n",
      "Epoch: 004, Loss: 1.1949\n",
      "Epoch: 005, Loss: 1.0372\n",
      "Epoch: 006, Loss: 1.1219\n",
      "Epoch: 007, Loss: 1.2147\n",
      "Epoch: 008, Loss: 0.9966\n",
      "Epoch: 009, Loss: 1.2378\n"
     ]
    }
   ],
   "source": [
    "model = GCN(input_size=dataset.num_features, \n",
    "            hidden_size=16, \n",
    "            output_size=dataset.num_classes)\n",
    "optimizer = torch.optim.Adam(model.parameters(), lr=0.01, weight_decay=5e-4)\n",
    "criterion = torch.nn.CrossEntropyLoss()\n",
    "\n",
    "\n",
    "print(model)\n",
    "\n",
    "print_every = 1\n",
    "\n",
    "train_loss_history = []\n",
    "val_loss_history = []\n",
    "\n",
    "for epoch in range(1, 10):\n",
    "    \n",
    "    loss = train(model, optimizer, criterion, data)\n",
    "    train_loss_history.append(loss.item())\n",
    "\n",
    "    val_loss = get_val_loss(model, optimizer, criterion, data)\n",
    "    val_loss_history.append(val_loss)\n",
    "\n",
    "    if epoch % print_every == 0:\n",
    "        print(f'Epoch: {epoch:03d}, Loss: {loss:.4f}')"
   ]
  },
  {
   "cell_type": "code",
   "execution_count": 62,
   "metadata": {},
   "outputs": [
    {
     "data": {
      "image/png": "[encoded data removed]",
      "text/plain": [
       "<Figure size 1000x400 with 1 Axes>"
      ]
     },
     "metadata": {},
     "output_type": "display_data"
    }
   ],
   "source": [
    "plt.figure(figsize=(10, 4))\n",
    "plt.subplot(1, 2, 1)\n",
    "plt.plot(train_loss_history)\n",
    "plt.plot(val_loss_history)\n",
    "plt.show()"
   ]
  },
  {
   "cell_type": "code",
   "execution_count": 63,
   "metadata": {},
   "outputs": [
    {
     "name": "stdout",
     "output_type": "stream",
     "text": [
      "Test accuracy = 0.45098039215686275\n"
     ]
    }
   ],
   "source": [
    "test_acc = test(model, data)\n",
    "\n",
    "print(f\"Test accuracy = {test_acc}\")"
   ]
  },
  {
   "cell_type": "markdown",
   "metadata": {},
   "source": [
    "# Laplacian-based positional encodings"
   ]
  },
  {
   "cell_type": "code",
   "execution_count": 90,
   "metadata": {},
   "outputs": [],
   "source": [
    "eigenmap = utils.get_eigenmap_from_edge_index(data.edge_index, data.x.shape[0], d=8)"
   ]
  },
  {
   "cell_type": "code",
   "execution_count": 91,
   "metadata": {},
   "outputs": [],
   "source": [
    "data.x = np.concat([data.x, eigenmap], axis=1)\n",
    "data.x = torch.tensor(data.x, dtype=torch.float32)"
   ]
  },
  {
   "cell_type": "code",
   "execution_count": 92,
   "metadata": {},
   "outputs": [
    {
     "name": "stdout",
     "output_type": "stream",
     "text": [
      "GCN(\n",
      "  (conv1): GCNConv(1711, 16)\n",
      "  (conv2): GCNConv(16, 5)\n",
      ")\n",
      "Epoch: 025, Loss: 0.7779\n",
      "Epoch: 050, Loss: 0.5316\n",
      "Epoch: 075, Loss: 0.4887\n",
      "Epoch: 100, Loss: 0.3732\n"
     ]
    }
   ],
   "source": [
    "model = GCN(input_size=data.x.shape[1], \n",
    "            hidden_size=16, \n",
    "            output_size=dataset.num_classes)\n",
    "optimizer = torch.optim.Adam(model.parameters(), lr=0.01, weight_decay=5e-4)\n",
    "criterion = torch.nn.CrossEntropyLoss()\n",
    "\n",
    "\n",
    "print(model)\n",
    "\n",
    "print_every = 25\n",
    "\n",
    "train_loss_history = []\n",
    "val_loss_history = []\n",
    "\n",
    "for epoch in range(1, 101):\n",
    "    \n",
    "    loss = train(model, optimizer, criterion, data)\n",
    "    train_loss_history.append(loss.item())\n",
    "\n",
    "    val_loss = get_val_loss(model, optimizer, criterion, data)\n",
    "    val_loss_history.append(val_loss)\n",
    "\n",
    "    if epoch % print_every == 0:\n",
    "        print(f'Epoch: {epoch:03d}, Loss: {loss:.4f}')"
   ]
  },
  {
   "cell_type": "code",
   "execution_count": 93,
   "metadata": {},
   "outputs": [
    {
     "data": {
      "image/png": "[encoded data removed]",
      "text/plain": [
       "<Figure size 1000x400 with 1 Axes>"
      ]
     },
     "metadata": {},
     "output_type": "display_data"
    }
   ],
   "source": [
    "plt.figure(figsize=(10, 4))\n",
    "plt.subplot(1, 2, 1)\n",
    "plt.plot(train_loss_history)\n",
    "plt.plot(val_loss_history)\n",
    "plt.show()"
   ]
  },
  {
   "cell_type": "code",
   "execution_count": 94,
   "metadata": {},
   "outputs": [
    {
     "name": "stdout",
     "output_type": "stream",
     "text": [
      "Test accuracy = 0.39215686274509803\n"
     ]
    }
   ],
   "source": [
    "test_acc = test(model, data)\n",
    "\n",
    "print(f\"Test accuracy = {test_acc}\")"
   ]
  },
  {
   "cell_type": "markdown",
   "metadata": {},
   "source": [
    "# Sheaf based positional encodings"
   ]
  },
  {
   "cell_type": "code",
   "execution_count": 103,
   "metadata": {},
   "outputs": [
    {
     "name": "stderr",
     "output_type": "stream",
     "text": [
      "/tmp/ipykernel_762/2584689557.py:2: DeprecationWarning: __array__ implementation doesn't accept a copy keyword, so passing copy=False failed. __array__ must implement 'dtype' and 'copy' keyword arguments. To learn more, see the migration guide https://numpy.org/devdocs/numpy_2_0_migration_guide.html#adapting-to-changes-in-the-copy-keyword\n",
      "  conn_laplacian = utils.local_pca_alignment(np.array(data.x), data.edge_index, stalk_dim)\n",
      "100%|██████████| 515/515 [00:26<00:00, 19.26it/s]\n"
     ]
    }
   ],
   "source": [
    "stalk_dim = 3\n",
    "conn_laplacian = utils.local_pca_alignment(np.array(data.x), data.edge_index, stalk_dim)\n",
    "conn_laplacian = torch.tensor(conn_laplacian, dtype=torch.float32)"
   ]
  },
  {
   "cell_type": "code",
   "execution_count": 11,
   "metadata": {},
   "outputs": [
    {
     "data": {
      "text/plain": [
       "tensor([[12, 13, 14, 15],\n",
       "        [ 8,  9, 10, 11]])"
      ]
     },
     "execution_count": 11,
     "metadata": {},
     "output_type": "execute_result"
    }
   ],
   "source": [
    "X = torch.arange(24).reshape(6,4)\n",
    "mask = [3,2]\n",
    "X[mask]"
   ]
  },
  {
   "cell_type": "code",
   "execution_count": 14,
   "metadata": {},
   "outputs": [
    {
     "data": {
      "text/plain": [
       "array([[12, 12, 12, 12],\n",
       "       [ 8,  8,  8,  8]])"
      ]
     },
     "execution_count": 14,
     "metadata": {},
     "output_type": "execute_result"
    }
   ],
   "source": [
    "X = np.arange(24).reshape(6,4)\n",
    "mask = [3,2]\n",
    "X[mask] - X[0]"
   ]
  },
  {
   "cell_type": "code",
   "execution_count": 104,
   "metadata": {},
   "outputs": [],
   "source": [
    "import torch\n",
    "import torch.nn as nn\n",
    "import torch.nn.functional as F\n",
    "from torch_geometric.nn import MessagePassing\n",
    "\n",
    "\n",
    "class SheafDiffusion(nn.Module):\n",
    "    def __init__(self, input_dim, hidden_channels, d, out_dim, graph_sz, conn_lap, num_layers=2):\n",
    "        super().__init__()\n",
    "        \n",
    "        self.input_dim = input_dim\n",
    "        self.hidden_channels = hidden_channels\n",
    "        self.hidden_dim = hidden_channels * d\n",
    "        self.out_dim = out_dim\n",
    "        self.graph_sz = graph_sz\n",
    "        self.d = d # stalk dim\n",
    "\n",
    "        self.num_layers = num_layers\n",
    "\n",
    "        self.conn_lap = conn_lap\n",
    "\n",
    "        self.left_w = nn.ModuleList()\n",
    "        self.right_w = nn.ModuleList()\n",
    "        self.eps = nn.ParameterList()\n",
    "        for i in range(self.num_layers):\n",
    "            self.right_w.append(nn.Linear(self.hidden_channels, self.hidden_channels, bias=False))\n",
    "            nn.init.orthogonal_(self.right_w[-1].weight.data)\n",
    "\n",
    "            self.left_w.append(nn.Linear(self.d, self.d, bias=False))\n",
    "            nn.init.eye_(self.left_w[-1].weight.data)\n",
    "\n",
    "            self.eps.append(nn.Parameter(torch.zeros((self.d, 1))))\n",
    "\n",
    "\n",
    "        self.lin1 = nn.Linear(self.input_dim, self.hidden_dim)\n",
    "        self.lin2 = nn.Linear(self.hidden_dim, self.out_dim)\n",
    "    \n",
    "    def forward(self, x, edge_index):\n",
    "        # print(f\"x shape = {x.shape}\")\n",
    "        x = self.lin1(x)\n",
    "        # print(f\"x' shape = {x.shape}\")\n",
    "        x = x.view(self.graph_sz * self.d, -1)\n",
    "\n",
    "        x0 = x\n",
    "        for layer in range(self.num_layers):\n",
    "            x = x.t().reshape(-1, self.d)\n",
    "            x = self.left_w[layer](x)\n",
    "            x = x.reshape(-1, self.graph_sz * self.d).t()\n",
    "\n",
    "            x = self.right_w[layer](x)\n",
    "\n",
    "            x = self.conn_lap @ x\n",
    "            x0 = (1 + torch.tanh(self.eps[layer]).tile(self.graph_sz, 1)) * x0 - x\n",
    "            x = x0\n",
    "\n",
    "        x = x.reshape(self.graph_sz, -1)\n",
    "        x = self.lin2(x)\n",
    "\n",
    "        return x"
   ]
  },
  {
   "cell_type": "code",
   "execution_count": 100,
   "metadata": {},
   "outputs": [
    {
     "data": {
      "text/plain": [
       "tensor(424.4371)"
      ]
     },
     "execution_count": 100,
     "metadata": {},
     "output_type": "execute_result"
    }
   ],
   "source": [
    "conn_laplacian.sum()"
   ]
  },
  {
   "cell_type": "code",
   "execution_count": 96,
   "metadata": {},
   "outputs": [
    {
     "data": {
      "text/plain": [
       "np.int64(1)"
      ]
     },
     "execution_count": 96,
     "metadata": {},
     "output_type": "execute_result"
    }
   ],
   "source": [
    "np.prod(1)"
   ]
  },
  {
   "cell_type": "code",
   "execution_count": 82,
   "metadata": {},
   "outputs": [],
   "source": [
    "emb_dim = 8\n",
    "eigenmap = utils.get_eigenmap(conn_laplacian, emb_dim)"
   ]
  },
  {
   "cell_type": "code",
   "execution_count": 83,
   "metadata": {},
   "outputs": [
    {
     "data": {
      "text/plain": [
       "torch.Size([753, 8])"
      ]
     },
     "execution_count": 83,
     "metadata": {},
     "output_type": "execute_result"
    }
   ],
   "source": [
    "eigenmap.shape"
   ]
  },
  {
   "cell_type": "code",
   "execution_count": 84,
   "metadata": {},
   "outputs": [
    {
     "data": {
      "text/plain": [
       "torch.Size([251, 1703])"
      ]
     },
     "execution_count": 84,
     "metadata": {},
     "output_type": "execute_result"
    }
   ],
   "source": [
    "data.x.shape"
   ]
  },
  {
   "cell_type": "code",
   "execution_count": 85,
   "metadata": {},
   "outputs": [],
   "source": [
    "eigenmaps = eigenmap.reshape((251, -1))"
   ]
  },
  {
   "cell_type": "code",
   "execution_count": 86,
   "metadata": {},
   "outputs": [],
   "source": [
    "tmp = np.copy(data.x)"
   ]
  },
  {
   "cell_type": "code",
   "execution_count": 87,
   "metadata": {},
   "outputs": [],
   "source": [
    "data.x = np.concat([tmp, eigenmaps], axis=1)"
   ]
  },
  {
   "cell_type": "code",
   "execution_count": 88,
   "metadata": {},
   "outputs": [],
   "source": [
    "data.x = torch.tensor(data.x, dtype=torch.float32)"
   ]
  },
  {
   "cell_type": "code",
   "execution_count": 105,
   "metadata": {},
   "outputs": [
    {
     "name": "stdout",
     "output_type": "stream",
     "text": [
      "SheafDiffusion(\n",
      "  (left_w): ModuleList(\n",
      "    (0-1): 2 x Linear(in_features=3, out_features=3, bias=False)\n",
      "  )\n",
      "  (right_w): ModuleList(\n",
      "    (0-1): 2 x Linear(in_features=32, out_features=32, bias=False)\n",
      "  )\n",
      "  (eps): ParameterList(\n",
      "      (0): Parameter containing: [torch.float32 of size 3x1]\n",
      "      (1): Parameter containing: [torch.float32 of size 3x1]\n",
      "  )\n",
      "  (lin1): Linear(in_features=1703, out_features=96, bias=True)\n",
      "  (lin2): Linear(in_features=96, out_features=5, bias=True)\n",
      ")\n",
      "Epoch: 025, Loss: 0.0058\n",
      "Epoch: 050, Loss: 0.0003\n",
      "Epoch: 075, Loss: 0.0002\n",
      "Epoch: 100, Loss: 0.0003\n"
     ]
    }
   ],
   "source": [
    "model = SheafDiffusion(input_dim=data.x.size(1), \n",
    "            hidden_channels=32,\n",
    "            d=3, \n",
    "            out_dim=dataset.num_classes,\n",
    "            graph_sz=data.x.size(0),\n",
    "            conn_lap=conn_laplacian,\n",
    "            num_layers=2)\n",
    "optimizer = torch.optim.Adam(model.parameters(), lr=0.01, weight_decay=5e-4)\n",
    "criterion = torch.nn.CrossEntropyLoss()\n",
    "\n",
    "\n",
    "print(model)\n",
    "\n",
    "print_every = 25\n",
    "\n",
    "train_loss_history = []\n",
    "val_loss_history = []\n",
    "\n",
    "for epoch in range(1, 125):\n",
    "    \n",
    "    loss = train(model, optimizer, criterion, data)\n",
    "    train_loss_history.append(loss.item())\n",
    "\n",
    "    val_loss = get_val_loss(model, optimizer, criterion, data)\n",
    "    val_loss_history.append(val_loss)\n",
    "\n",
    "    if epoch % print_every == 0:\n",
    "        print(f'Epoch: {epoch:03d}, Loss: {loss:.4f}')"
   ]
  },
  {
   "cell_type": "code",
   "execution_count": 111,
   "metadata": {},
   "outputs": [
    {
     "name": "stdout",
     "output_type": "stream",
     "text": [
      "GCN(\n",
      "  (conv1): GCNConv(1735, 16)\n",
      "  (conv2): GCNConv(16, 5)\n",
      ")\n",
      "Epoch: 025, Loss: 0.8232\n",
      "Epoch: 050, Loss: 0.7215\n",
      "Epoch: 075, Loss: 0.5896\n",
      "Epoch: 100, Loss: 0.5105\n",
      "Epoch: 125, Loss: 0.4756\n",
      "Epoch: 150, Loss: 0.4978\n",
      "Epoch: 175, Loss: 0.4981\n"
     ]
    }
   ],
   "source": [
    "model = GCN(input_size=data.x.shape[-1], \n",
    "            hidden_size=16, \n",
    "            output_size=dataset.num_classes)\n",
    "optimizer = torch.optim.Adam(model.parameters(), lr=0.01, weight_decay=5e-4)\n",
    "criterion = torch.nn.CrossEntropyLoss()\n",
    "\n",
    "\n",
    "print(model)\n",
    "\n",
    "print_every = 25\n",
    "\n",
    "train_loss_history = []\n",
    "val_loss_history = []\n",
    "\n",
    "for epoch in range(1, 200):\n",
    "    \n",
    "    loss = train(model, optimizer, criterion, data)\n",
    "    train_loss_history.append(loss.item())\n",
    "\n",
    "    val_loss = get_val_loss(model, optimizer, criterion, data)\n",
    "    val_loss_history.append(val_loss)\n",
    "\n",
    "    if epoch % print_every == 0:\n",
    "        print(f'Epoch: {epoch:03d}, Loss: {loss:.4f}')"
   ]
  },
  {
   "cell_type": "code",
   "execution_count": 106,
   "metadata": {},
   "outputs": [
    {
     "name": "stdout",
     "output_type": "stream",
     "text": [
      "Test accuracy = 0.6078431372549019\n"
     ]
    }
   ],
   "source": [
    "test_acc = test(model, data)\n",
    "\n",
    "print(f\"Test accuracy = {test_acc}\")"
   ]
  },
  {
   "cell_type": "code",
   "execution_count": 21,
   "metadata": {},
   "outputs": [
    {
     "data": {
      "text/plain": [
       "tensor([ 7,  9, 11, 13, 15])"
      ]
     },
     "execution_count": 21,
     "metadata": {},
     "output_type": "execute_result"
    }
   ],
   "source": [
    "torch.arange(1,11).reshape((2,-1)).sum(dim=0)"
   ]
  },
  {
   "cell_type": "code",
   "execution_count": 29,
   "metadata": {},
   "outputs": [
    {
     "name": "stdout",
     "output_type": "stream",
     "text": [
      "torch.Size([3, 3])\n",
      "tensor([0.0686, 0.4176, 0.0484])\n",
      "tensor([ 0.0845, -0.1737, -0.0975])\n",
      "tensor([-0.1161, -0.0299, -0.0024])\n"
     ]
    }
   ],
   "source": [
    "eigenfuncs = torch.tensor([[-0.5000],\n",
    "        [-0.7071],\n",
    "        [-0.5000]])\n",
    "c = torch.tensor([[0.],\n",
    "        [0.],\n",
    "        [0.]])\n",
    "x = torch.tensor([[-0.4114, -0.5071,  0.6963],\n",
    "        [-1.7717,  0.7370,  0.1269],\n",
    "        [-0.2905,  0.5852,  0.0144]])\n",
    "dx = 3\n",
    "dy= 1\n",
    "c = []\n",
    "print(x.shape)\n",
    "for i in range(x.size(1)):\n",
    "    for alpha in range(dy):\n",
    "        print(f\"{x[:, i]*eigenfuncs[:, alpha]/3}\")\n",
    "# for i in range(dx):\n",
    "#     for alpha in range(dy):\n"
   ]
  },
  {
   "cell_type": "code",
   "execution_count": null,
   "metadata": {},
   "outputs": [],
   "source": [
    "eigen = torch.tensor([[-0.7071],\n",
    "        [-0.5000],\n",
    "        [-0.5000]])\n",
    "c = torch.tensor([[-0.0314],\n",
    "        [-0.5727],\n",
    "        [-0.1295]])\n",
    "x_rec = torch.tensor([0., 0., 0.])"
   ]
  }
 ],
 "metadata": {
  "kernelspec": {
   "display_name": "env",
   "language": "python",
   "name": "python3"
  },
  "language_info": {
   "codemirror_mode": {
    "name": "ipython",
    "version": 3
   },
   "file_extension": ".py",
   "mimetype": "text/x-python",
   "name": "python",
   "nbconvert_exporter": "python",
   "pygments_lexer": "ipython3",
   "version": "3.12.3"
  }
 },
 "nbformat": 4,
 "nbformat_minor": 2
}
